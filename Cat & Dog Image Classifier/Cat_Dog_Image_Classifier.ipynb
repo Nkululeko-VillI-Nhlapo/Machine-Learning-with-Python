{
 "cells": [
  {
   "cell_type": "markdown",
   "metadata": {},
   "source": [
    "# <span style=\"color:blue;\">Project Title: Cat and Dog Image Classifier</span>\n",
    "### <span style=\"color:black;\">Nhlapo Nkululeko</span>\n",
    "### <span style=\"color:blue;\" src=\"https://github.com/Nkululeko-VillI-Nhlapo/Machine-Learning-with-Python/blob/main/Cat%20%26%20Dog%20Image%20Classifier/Nkululeko_Cat_and_Image_Classfier.ipynb\">Full Model Code:Click Here</span>\n",
    "The model code is with results and output, VIEW IT after reading this part, click on the link above.\n",
    "\n",
    "## <span style=\"color:green;\">Introduction</span>\n",
    "The objective of this project is to build a convolutional neural network (CNN) to classify images of cats and dogs with high accuracy.\n",
    "\n",
    "## <span style=\"color:green;\">Problem Statement</span>\n",
    "Image classification of cats and dogs is a fundamental problem in computer vision that involves automatically identifying whether an image contains a cat or a dog.\n",
    "\n",
    "## <span style=\"color:green;\">Dataset</span>\n",
    "The dataset is sourced from <a href=\"https://cdn.freecodecamp.org/project-data/cats-and-dogs/cats_and_dogs.zip\" style=\"color:orange;\">FreeCodeCamp</a>. It contains 25,000 labeled images of cats and dogs, split into training, validation, and test sets. Each image is resized to 150x150 pixels and normalized to the range [0, 1].\n",
    "\n",
    "## <span style=\"color:green;\">Methodology</span>\n",
    "\n",
    "### <span style=\"color:purple;\">Data Preprocessing</span>\n",
    "- Images were resized to 150x150 pixels, normalized, and augmented with techniques such as horizontal and vertical flipping, rotation, and zooming.\n",
    "\n",
    "### <span style=\"color:purple;\">Model Architecture</span>\n",
    "- The CNN model consists of three convolutional layers followed by max pooling layers, a flatten layer, and two dense layers. ReLU activation is used for hidden layers, and softmax activation is used for the output layer.\n",
    "\n",
    "### <span style=\"color:purple;\">Training</span>\n",
    "- The model was trained using the Adam optimizer with a learning rate of 0.001, binary cross-entropy loss, and a batch size of 128 for 20 epochs.\n",
    "\n"
   ]
  },
  {
   "cell_type": "markdown",
   "metadata": {},
   "source": [
    "### <span style=\"color:purple;\">Evaluation</span>\n",
    "- The model was evaluated using accuracy and loss on the validation set. A confusion matrix, precision, recall, and F1-score were also calculated to assess performance.\n",
    "\n",
    "## <span style=\"color:green;\">Results</span>\n",
    "The model achieved a training accuracy of <span style=\"color:red;\">**78%**</span> and a validation accuracy of <span style=\"color:red;\">**74%**</span>. Plots of training and validation accuracy and loss over epochs were generated, and sample predictions were visualized with images and their predicted labels.\n",
    "\n",
    "## <span style=\"color:green;\">Conclusion</span>\n",
    "The CNN model effectively classifies images of cats and dogs, achieving a validation accuracy of <span style=\"color:red;\">**74%**</span>. Data augmentation and careful tuning of hyperparameters were crucial for improving performance. Future work could involve using more advanced architectures like ResNet or Inception, or fine-tuning pre-trained models on the dataset to further improve accuracy.\n"
   ]
  }
 ],
 "metadata": {
  "language_info": {
   "name": "python"
  }
 },
 "nbformat": 4,
 "nbformat_minor": 2
}
