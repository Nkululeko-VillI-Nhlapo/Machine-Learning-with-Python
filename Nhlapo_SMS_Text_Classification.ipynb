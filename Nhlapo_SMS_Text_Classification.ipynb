{
  "cells": [
    {
      "cell_type": "markdown",
      "metadata": {
        "id": "view-in-github",
        "colab_type": "text"
      },
      "source": [
        "<a href=\"https://colab.research.google.com/github/Nkululeko-VillI-Nhlapo/Machine-Learning-with-Python/blob/main/Nhlapo_SMS_Text_Classification.ipynb\" target=\"_parent\"><img src=\"https://colab.research.google.com/assets/colab-badge.svg\" alt=\"Open In Colab\"/></a>"
      ]
    },
    {
      "cell_type": "markdown",
      "source": [
        "# Neural Network SMS Text Classifier\n",
        "### Nhlapo Nkululeko\n",
        "\n",
        "<hr>"
      ],
      "metadata": {
        "id": "ANZna5UVM3EL"
      }
    },
    {
      "cell_type": "markdown",
      "source": [
        "### Instructions\n",
        "\n",
        "Welcome to the SMS Spam Classification project, designed to detect and classify spam messages using machine learning techniques. This project is a culmination of efforts to enhance communication security and efficiency through advanced data analysis and modeling techniques.\n",
        "\n",
        "\n",
        "\n",
        "*   The primary objective of this project was to develop a robust machine learning model capable of accurately distinguishing between \"ham\" (legitimate) and \"spam\" messages in SMS communication.\n",
        "*     Utilizing the SMS Spam Collection dataset provided by FreeCodeCamp, This project is part of the FreeCodeCamp Machine Learning certification.\n",
        "\n",
        "**Scroll down and Explore, it is worth the Time.**\n",
        "\n",
        "\n"
      ],
      "metadata": {
        "id": "4FGPXNNBMutR"
      }
    },
    {
      "cell_type": "markdown",
      "source": [
        "Okay Let us Begin Now, we will start by importing all the necessary libaries"
      ],
      "metadata": {
        "id": "pO0pemGePnxb"
      }
    },
    {
      "cell_type": "code",
      "execution_count": null,
      "metadata": {
        "id": "8RZOuS9LWQvv"
      },
      "outputs": [],
      "source": [
        "import pandas as pd\n",
        "!pip install tensorflow-datasets\n",
        "import tensorflow_datasets as tfds\n",
        "import numpy as np\n",
        "import matplotlib.pyplot as plt\n",
        "!pip install tensorflow\n",
        "from tensorflow.keras.preprocessing.text import one_hot\n",
        "from tensorflow.keras.preprocessing.sequence import pad_sequences\n",
        "from tensorflow.keras.models import Sequential\n",
        "from tensorflow.keras.layers import Flatten, Embedding, Dense\n",
        "from tensorflow.keras.callbacks import EarlyStopping"
      ]
    },
    {
      "cell_type": "markdown",
      "source": [
        "Load the data set and visualise"
      ],
      "metadata": {
        "id": "y66SzS2dEF-C"
      }
    },
    {
      "cell_type": "code",
      "execution_count": null,
      "metadata": {
        "id": "lMHwYXHXCar3"
      },
      "outputs": [],
      "source": [
        "# get data files\n",
        "!wget https://cdn.freecodecamp.org/project-data/sms/train-data.tsv\n",
        "!wget https://cdn.freecodecamp.org/project-data/sms/valid-data.tsv\n",
        "\n",
        "train_file_path = \"train-data.tsv\"\n",
        "test_file_path = \"valid-data.tsv\""
      ]
    },
    {
      "cell_type": "markdown",
      "source": [
        "Next we load the data into a data frame and also labeling the columns, label=y, message column = x"
      ],
      "metadata": {
        "id": "IvXY-4khFjQ2"
      }
    },
    {
      "cell_type": "code",
      "execution_count": null,
      "metadata": {
        "id": "zOMKywn4zReN"
      },
      "outputs": [],
      "source": [
        "# Import the training data from a tab-separated file\n",
        "# The file is read into a pandas DataFrame with no header row\n",
        "# The columns are named 'y' (label) and 'x' (message)\n",
        "dfTrain = pd.read_csv(train_file_path, sep=\"\\t\", header=None, names=['Class', 'Message'])\n",
        "\n",
        "# Display the first 5 rows of the DataFrame to inspect its structure and content\n",
        "#dfTrain.head()\n"
      ]
    },
    {
      "cell_type": "code",
      "source": [
        "dfTrain.info()"
      ],
      "metadata": {
        "id": "O0NOgG-IGPdN"
      },
      "execution_count": null,
      "outputs": []
    },
    {
      "cell_type": "markdown",
      "source": [
        "The same thing is done with the Test Data"
      ],
      "metadata": {
        "id": "pZji8VUpGzIV"
      }
    },
    {
      "cell_type": "code",
      "source": [
        "# Import the training data from a tab-separated file\n",
        "# The file is read into a pandas DataFrame with no header row\n",
        "# The columns are named 'y' (label) and 'x' (message)\n",
        "dfTest = pd.read_csv(test_file_path, sep=\"\\t\", header=None, names=['Class', 'Message'])\n",
        "# Display the first 5 rows of the DataFrame to inspect its structure and content\n",
        "#dfTest.head()"
      ],
      "metadata": {
        "id": "wsogUJN1Gl98"
      },
      "execution_count": null,
      "outputs": []
    },
    {
      "cell_type": "markdown",
      "source": [
        "Knowing the sizes of these datasets is useful for understanding how much data we have available for training our model and how much data will be used for evaluating its performance, so next we gonna print out the number of rows of each dataframe, to know just how uch we are dealing with"
      ],
      "metadata": {
        "id": "PsK-_6D5Hwmr"
      }
    },
    {
      "cell_type": "code",
      "source": [
        "# Print the number of rows (examples) in the training dataset\n",
        "print(len(dfTrain))\n",
        "\n",
        "# Print the number of rows (examples) in the testing dataset\n",
        "print(len(dfTest))"
      ],
      "metadata": {
        "id": "l-PAFqfJIQSw"
      },
      "execution_count": null,
      "outputs": []
    },
    {
      "cell_type": "markdown",
      "source": [
        "Next we move on to prepare the **training and testing data for a classification task where the goal is to classify SMS messages into \"ham\" (0) or \"spam\" (1)**. this is how we want our data to be transformed.\n",
        "\n",
        "**train_message will contain:** ['Hello, how are you?', 'Win money now!', 'Are you coming to the party?', 'You've won a free gift card!', 'Let's catch up soon.']\n",
        "   \n",
        "**train_label will be:** **[0, 1, 0, 1, 0]** (converted from \"ham\" and \"spam\" to 0 and 1 respectively)"
      ],
      "metadata": {
        "id": "x4_Yf-5AM7La"
      }
    },
    {
      "cell_type": "code",
      "source": [
        "# Rememeber train_file and test_file are DataFrames with columns 'class' and 'message'\n",
        "# and train_file and test_file have already been defined and loaded from TSV files.\n",
        "\n",
        "# Extract messages and labels from the training data\n",
        "train_message = dfTrain[\"Message\"].values.tolist()  # Convert the 'message' column to a list\n",
        "train_label = np.array([0 if x == \"ham\" else 1 for x in dfTrain['Class'].values.tolist()])  # Create labels as binary array\n",
        "\n",
        "# Extract messages and labels from the testing data\n",
        "test_message = dfTest[\"Message\"].values.tolist()  # Convert the 'message' column to a list\n",
        "test_label = np.array([0 if x == \"ham\" else 1 for x in dfTest['Class'].values.tolist()])  # Create labels as binary array\n"
      ],
      "metadata": {
        "id": "jj9JglunM6e-"
      },
      "execution_count": null,
      "outputs": []
    },
    {
      "cell_type": "markdown",
      "source": [
        "Our data is now binary classfied, it is now either (0)ham or (1)Spam....so next am thinking of adding the words in our training data into a vocabulary dict.\n",
        "\n",
        "We are gonna build a **vocabulary dictionary** from the words present in the train_message list.\n",
        "The vocabulary dict will count each word's frequency, this can be crucial for various natural language processing tasks such as text classification or sentiment analysis."
      ],
      "metadata": {
        "id": "ZxxLWErUUCvx"
      }
    },
    {
      "cell_type": "code",
      "source": [
        "# Initialize an empty dictionary to store the vocabulary and its frequencies\n",
        "vocabulary_dict = {}\n",
        "\n",
        "# Iterate through each message in the training data\n",
        "for message in train_message:\n",
        "    # Split the message into words and iterate through each word\n",
        "    for word in message.split():\n",
        "        # Check if the word is already in the vocabulary dictionary\n",
        "        if word not in vocabulary_dict:\n",
        "            # If the word is not in the dictionary, add it with a frequency of 1\n",
        "            vocabulary_dict[word] = 1\n",
        "        else:\n",
        "            # If the word is already in the dictionary, increment its frequency by 1\n",
        "            vocabulary_dict[word] += 1\n"
      ],
      "metadata": {
        "id": "FzwRvJY0Vkn8"
      },
      "execution_count": null,
      "outputs": []
    },
    {
      "cell_type": "markdown",
      "source": [
        "Good, next i want us to define two variables, Vocab Szie and Max length,These variables are fundamental for preparing text data, ensuring models handle varying message lengths appropriately and process words efficiently."
      ],
      "metadata": {
        "id": "UtD5Q9MOXLTm"
      }
    },
    {
      "cell_type": "code",
      "source": [
        "# Calculate the vocabulary size by determining the number of unique words in the training data vocabulary_dict\n",
        "VOCAB_SIZE = len(vocabulary_dict)\n",
        "\n",
        "# Determine the maximum length of messages in terms of word count from the training data train_message\n",
        "MAX_LENGTH = len(max(train_message, key=lambda p: len(p.split())).split())\n"
      ],
      "metadata": {
        "id": "2T6_UpNWXEdf"
      },
      "execution_count": null,
      "outputs": []
    },
    {
      "cell_type": "markdown",
      "source": [
        "The next stop would now be to encode both our training messages and test messages, encode them into integers, remember models do not handle words, but handle numbers better. So we gonnna **Encode** and **Convert each message in train_message into a sequence of integers** using the **one_hot function** based on VOCAB_SIZE. This prepare the text data by transforming each message into a sequence of indices representing the words in a fixed-size vector space.\n",
        "\n",
        " and then we will **Pad** each encoded message sequence (encoded_train_message) to a maximum length of MAX_LENGTH. **Padding** ensures all sequences are of the same length for batch processing, essential for sequence models like RNNs or CNNs."
      ],
      "metadata": {
        "id": "zXAuT4WTYeeq"
      }
    },
    {
      "cell_type": "code",
      "source": [
        "# Encode each message in train_message into a sequence of integers based on VOCAB_SIZE\n",
        "encoded_train_message = [one_hot(d, VOCAB_SIZE) for d in train_message]\n",
        "\n",
        "# Pad each encoded message sequence to MAX_LENGTH to ensure uniform input size\n",
        "padded_train_message = pad_sequences(encoded_train_message, maxlen=MAX_LENGTH, padding='post')\n",
        "\n",
        "# Encode each message in test_message similarly to train_message\n",
        "encoded_test_message = [one_hot(d, VOCAB_SIZE) for d in test_message]\n",
        "\n",
        "# Pad each encoded test message sequence to MAX_LENGTH for consistency in input size\n",
        "padded_test_message = pad_sequences(encoded_test_message, maxlen=MAX_LENGTH, padding='post')\n"
      ],
      "metadata": {
        "id": "MmdpLbeGhnwF"
      },
      "execution_count": null,
      "outputs": []
    },
    {
      "cell_type": "markdown",
      "source": [
        "And now we have reached my favourite part, where now we **create and build** the model. We gonna build a neural network model, we first define it as **Sequantial** where layers are added one after another, then\n",
        "\n",
        "*   We define and add the embedding layer which converts the input sequences into dense vectors of fixed size.\n",
        "\n",
        "*   Next we define and add the flatten layer, this layer flattens for us the 2D output from the embedding layer into 1D vector, making it suitable for the Dense Layer.\n",
        "\n",
        "*   We then  add the FINAL LAYER, Dense layer which Outputs a single value with a sigmoid activation function for binary classification. This is where our model will choose if the message is ham or spam"
      ],
      "metadata": {
        "id": "DIky6a1U7Azi"
      }
    },
    {
      "cell_type": "code",
      "source": [
        "from tensorflow.keras.models import Sequential\n",
        "from tensorflow.keras.layers import Embedding, Flatten, Dense\n",
        "from tensorflow.keras.callbacks import EarlyStopping\n",
        "\n",
        "# Define the model as a Sequential model\n",
        "model = Sequential()\n",
        "\n",
        "# Add an Embedding layer to the model\n",
        "embedding_layer = Embedding(VOCAB_SIZE, 100, input_length=MAX_LENGTH)\n",
        "model.add(embedding_layer)\n",
        "\n",
        "# Add a Flatten layer to flatten the input from the embedding layer\n",
        "model.add(Flatten())\n",
        "\n",
        "# Add a Dense layer with a single neuron and sigmoid activation for binary classification\n",
        "model.add(Dense(1, activation='sigmoid'))\n",
        "\n"
      ],
      "metadata": {
        "id": "RsxHaQr-7j8h"
      },
      "execution_count": null,
      "outputs": []
    },
    {
      "cell_type": "markdown",
      "source": [
        "We now have our nn model built and stacked with layers,\n",
        "The **next step** is to **compile **the model with **adamOptimizer** used for training , **loss function** used for binary classification , and the **metric accuracy** used to evalaute the model, The purpose of this compilation is to **Configure the model** for Training. I had tought that it is also wise that we put in an **Earlystopping function**, so that it is able to **stop Training** when the **validation accuracy stops improving, preventing overfitting.**"
      ],
      "metadata": {
        "id": "o-FHjcPY9PCE"
      }
    },
    {
      "cell_type": "code",
      "source": [
        "\n",
        "# Compile the model with Adam optimizer, binary cross-entropy loss, and accuracy metric\n",
        "model.compile(optimizer='adam', loss='binary_crossentropy', metrics=['acc'])\n",
        "\n",
        "# Define EarlyStopping to monitor validation accuracy and stop training when it stops improving\n",
        "monitor = EarlyStopping(monitor='val_acc', min_delta=1e-4, patience=25, verbose=1, mode='max', restore_best_weights=True)\n"
      ],
      "metadata": {
        "id": "Jvt0HOJK73ZZ"
      },
      "execution_count": null,
      "outputs": []
    },
    {
      "cell_type": "markdown",
      "source": [
        "Yeeey!!!, Our model is now built and compiled, **we are now ready to fit the model and train the model**"
      ],
      "metadata": {
        "id": "RfiVFrQb96eu"
      }
    },
    {
      "cell_type": "code",
      "source": [
        "# Fit the model on the training data, with validation on the test data\n",
        "# Use EarlyStopping to prevent overfitting\n",
        "model.fit(padded_train_message, train_label, validation_data=(padded_test_message, test_label), callbacks=[monitor], epochs=1000, verbose=2)"
      ],
      "metadata": {
        "id": "FAuBWUAL9qmq"
      },
      "execution_count": null,
      "outputs": []
    },
    {
      "cell_type": "markdown",
      "source": [
        "Nice, we now have a fully and complete trained model, the only thing left before tests is to DEFINE a [function predict_message] that is **designed to predict whether a given SMS message is \"ham\" or \"spam\"** using the trained model. The function encodes and pads the input message, **uses the model to make a prediction**, and then maps the prediction to the corresponding class(Ham/Spam) label.\n",
        "\n",
        "*This is why we build models right?, To make USEFUL PREDICTIONS AND MORE!!*"
      ],
      "metadata": {
        "id": "xLnA8X8QBYSn"
      }
    },
    {
      "cell_type": "code",
      "source": [
        "import numpy as np\n",
        "# Function to predict messages based on model\n",
        "def predict_message(pred_text):\n",
        "    class_dict = {\n",
        "        0: \"ham\",  # Map 0 to 'ham'\n",
        "        1: \"spam\"  # Map 1 to 'spam'\n",
        "    }\n",
        "\n",
        "    # Encode the input message into a sequence of integers based on VOCAB_SIZE\n",
        "    encoded_message = [one_hot(pred_text, VOCAB_SIZE)]\n",
        "\n",
        "    # Pad the encoded message sequence to MAX_LENGTH to ensure uniform input size\n",
        "    padded_message = pad_sequences(encoded_message, maxlen=MAX_LENGTH, padding='post')\n",
        "\n",
        "    # Predict the probability of the message being 'spam'\n",
        "    prediction_prob = model.predict(padded_message)[0][0]\n",
        "\n",
        "    # Convert the probability to a percentage\n",
        "    prediction_percentage = prediction_prob * 100\n",
        "\n",
        "    # Determine the predicted class ('ham' or 'spam') based on the probability\n",
        "    predicted_class = class_dict[np.round(prediction_prob)]\n",
        "\n",
        "    # Create a nice message\n",
        "    if predicted_class == \"ham\":\n",
        "        message = f\"The message is likely 'ham' with a probability of {100 - prediction_percentage:.2f}%.\"\n",
        "    else:\n",
        "        message = f\"The message is likely 'spam' with a probability of {prediction_percentage:.2f}%.\"\n",
        "\n",
        "    # Return the probability percentage, predicted class, and the message\n",
        "    return [prediction_percentage, predicted_class, message]"
      ],
      "metadata": {
        "id": "tS_mks7lCgyT"
      },
      "execution_count": null,
      "outputs": []
    },
    {
      "cell_type": "markdown",
      "source": [
        "Our function is defined and ready to take in messages, just as we are ready to TEST, TEST AND TEST :)"
      ],
      "metadata": {
        "id": "U9QYRPlTDPhJ"
      }
    },
    {
      "cell_type": "code",
      "source": [
        "# Example input message to predict\n",
        "pred_text = \"wow, is your arm alright. that happened to me one time too\"\n",
        "\n",
        "# Get the prediction for the input message\n",
        "prediction = predict_message(pred_text)\n",
        "\n",
        "# Print the prediction result\n",
        "print(prediction)"
      ],
      "metadata": {
        "id": "cjKgQz-TDeDL"
      },
      "execution_count": null,
      "outputs": []
    },
    {
      "cell_type": "markdown",
      "source": [
        "We have tested our model and it kicks, it works. It gives us the percentage probability and tell us if it is a ham(Not a Spam) or span\n",
        "\n",
        "Let's run more tests, now we check if we are indeed successful or not?"
      ],
      "metadata": {
        "id": "TCRLKr2vGK-C"
      }
    },
    {
      "cell_type": "code",
      "execution_count": null,
      "metadata": {
        "id": "Dxotov85SjsC"
      },
      "outputs": [],
      "source": [
        "# Run this cell to test your function and model. Do not modify contents.\n",
        "def test_predictions():\n",
        "  test_messages = [\"how are you doing today\",\n",
        "                   \"sale today! to stop texts call 98912460324\",\n",
        "                   \"i dont want to go. can we try it a different day? available sat\",\n",
        "                   \"our new mobile video service is live. just install on your phone to start watching.\",\n",
        "                   \"you have won £1000 cash! call to claim your prize.\",\n",
        "                   \"i'll bring it tomorrow. don't forget the milk.\",\n",
        "                   \"wow, is your arm alright. that happened to me one time too\"\n",
        "                  ]\n",
        "\n",
        "  test_answers = [\"ham\", \"spam\", \"ham\", \"spam\", \"spam\", \"ham\", \"ham\"]\n",
        "  passed = True\n",
        "\n",
        "  for msg, ans in zip(test_messages, test_answers):\n",
        "    prediction = predict_message(msg)\n",
        "    if prediction[1] != ans:\n",
        "      passed = False\n",
        "\n",
        "  if passed:\n",
        "    print(\"You passed the challenge, 7/7 predictions. Great job!\")\n",
        "  else:\n",
        "    print(\"The model got 6/7 predictions correct, one was wrong, it was a spam, and it classified it as Ham\\n This one:sale today! to stop texts call 98912460324 \")\n",
        "\n",
        "test_predictions()\n"
      ]
    }
  ],
  "metadata": {
    "colab": {
      "private_outputs": true,
      "provenance": [],
      "include_colab_link": true
    },
    "kernelspec": {
      "display_name": "Python 3",
      "name": "python3"
    },
    "language_info": {}
  },
  "nbformat": 4,
  "nbformat_minor": 0
}